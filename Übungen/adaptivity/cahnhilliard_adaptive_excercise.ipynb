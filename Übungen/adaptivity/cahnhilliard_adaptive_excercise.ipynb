{
 "cells": [
  {
   "cell_type": "markdown",
   "id": "8e790012",
   "metadata": {
    "lines_to_next_cell": 2
   },
   "source": [
    "# Cahn-Hilliard equation\n",
    "In this script we show how to solve vector valued problems, how to use\n",
    "adaptivity to improve both, solution quality and runtime performance.\n",
    "Let's start with importing the necessary modules."
   ]
  },
  {
   "cell_type": "code",
   "execution_count": null,
   "id": "b976cf35",
   "metadata": {},
   "outputs": [],
   "source": [
    "\n",
    "import time\n",
    "import numpy as np\n",
    "\n",
    "import dune.fem as fem\n",
    "from dune.fem.space import lagrange, finiteVolume\n",
    "from dune.fem.scheme import galerkin\n",
    "from dune.fem.function import gridFunction\n",
    "from dune.fem import integrate\n",
    "from dune.grid import cartesianDomain\n",
    "from dune.alugrid import aluConformGrid as leafGridView\n",
    "from dune.fem.view import adaptiveLeafGridView\n",
    "\n",
    "# use threading to utilize more cores\n",
    "# fem.threading.use = 8 # or simply call\n",
    "fem.threading.useMax()\n",
    "\n",
    "# ufl utilities from dune\n",
    "from dune.ufl import DirichletBC, Constant, cell\n",
    "\n",
    "# general ufl classes\n",
    "import ufl\n",
    "from ufl import (TestFunction,TrialFunction,SpatialCoordinate, dx, div, grad,inner, sin, cos, exp, pi, sqrt,ln, conditional, sign, as_vector)"
   ]
  },
  {
   "cell_type": "markdown",
   "id": "8da2642b",
   "metadata": {
    "lines_to_next_cell": 2
   },
   "source": [
    "\n",
    "To define the mathematical model, let $\\psi\\colon{\\mathbb R} \\rightarrow\n",
    "\\mathbb{R}$ be defined as\n",
    "$$\\psi(x) = \\frac{(1-x^2)^2}{4} \\mbox{ and } \\phi(x) := \\psi(x)^{\\prime} = x^3 - x.$$\n",
    "\n",
    "The strong form for the solution\n",
    "$u\\colon \\Omega \\times [0,T] \\rightarrow {\\mathbb R}$\n",
    "is given by\n",
    "\\begin{align*}\n",
    "\\partial_t u  - \\Delta (\\phi(u)-\\epsilon^2 \\Delta u) = 0\n",
    "\\quad &\\text{in} \\ \\Omega \\times [0,T] ,\\\\\n",
    "u(\\cdot,0) = u_0(\\cdot)  \\quad &\\text{in} \\ \\Omega,\\\\\n",
    "\\partial_n u = \\partial_n \\big( \\phi(u) - \\epsilon^2\\Delta u \\big) = 0\n",
    "\\quad &\\text{on} \\ \\partial \\Omega \\times [0,T].\n",
    "\\end{align*}"
   ]
  },
  {
   "cell_type": "code",
   "execution_count": null,
   "id": "837d840c",
   "metadata": {
    "lines_to_next_cell": 0
   },
   "outputs": [],
   "source": [
    "## setup of the problem\n",
    "useVTK = False\n",
    "\n",
    "N = 10       # cells in each coordinate direction\n",
    "dim = 2      # dimension of domain\n",
    "W, H = 1, 1  # width and height\n",
    "T = 4        # final time\n",
    "\n",
    "mxl = 4 # level of initial refinement (half grid width each time)\n",
    "\n",
    "# create domain\n",
    "domain = cartesianDomain([0, 0], [W, H], [N, round(H/W)*N], periodic=[False, False])\n",
    "\n",
    "gridView = leafGridView(domain, dimgrid=dim)"
   ]
  },
  {
   "cell_type": "markdown",
   "id": "27cc5439",
   "metadata": {},
   "source": [
    "It is very important that for adaptive computations we use an adaptive leaf\n",
    "grid view. Otherwise the data transfer between adaptation steps will not work\n",
    "correctly.\n",
    "\n",
    "TODO: Create an `adaptiveLeafGridView` passing an existing `leafGridView` as\n",
    "argument and simply overload the existing `gridView`"
   ]
  },
  {
   "cell_type": "code",
   "execution_count": null,
   "id": "7c2dc6bb",
   "metadata": {},
   "outputs": [],
   "source": [
    "##### TASK\n",
    "gridView = adaptiveLeafGridView(gridView)"
   ]
  },
  {
   "cell_type": "markdown",
   "id": "5d832971",
   "metadata": {},
   "source": [
    "Some initial refinement to allow for sufficient resolution of the initial\n",
    "data."
   ]
  },
  {
   "cell_type": "code",
   "execution_count": null,
   "id": "4b5eae1d",
   "metadata": {
    "lines_to_next_cell": 1
   },
   "outputs": [],
   "source": [
    "gridView.hierarchicalGrid.globalRefine(mxl * gridView.hierarchicalGrid.refineStepsForHalf)\n",
    "maxLevel = gridView.hierarchicalGrid.maxLevel\n",
    "\n",
    "# space for solution\n",
    "space = lagrange(gridView, order=1, dimRange=2)\n",
    "\n",
    "# space for indicator function\n",
    "fvspc = finiteVolume(gridView, dimRange=1)\n",
    "\n",
    "## discrete functions needed for form\n",
    "u_prev  = space.interpolate([0]*2, name=\"u_h_prev\")\n",
    "u_h = space.interpolate([0]*2, name=\"u_h\")\n",
    "\n",
    "indicator = fvspc.interpolate([0], name=\"indicator\")\n",
    "\n",
    "u = TrialFunction(space)\n",
    "v = TestFunction(space)\n",
    "\n",
    "eps = 0.05\n",
    "\n",
    "## dune.ufl.Constants\n",
    "tau  = Constant(1., name=\"tau\") # timestep constant\n",
    "eps2 = Constant(eps**2, name=\"eps2\") # we need eps^2\n",
    "\n",
    "# 1 for implicit Euler and 0.5 for Crank-Nicolson\n",
    "theta = Constant(1.0, name=\"theta\")\n",
    "\n",
    "# Eyre approximation of energy potential\n",
    "# use in weak form as phi(u[0], u_prev[0])\n",
    "phi = lambda u_np1, u_n: u_np1**3 - u_n\n",
    "\n",
    "# eta_(n+theta) # implicit-explicit splitting\n",
    "eta_theta = (1.0-theta)*u_prev[1] + theta*u[1]\n",
    "\n",
    "# time derivative for phase field M:\n",
    "M = inner(u[0] - u_prev[0], v[0]) * dx\n",
    "\n",
    "# spatial derivative first equation L0:\n",
    "L0 = tau*inner(grad(eta_theta), grad(v[0]))*dx\n",
    "\n",
    "# spatial derivative second equation L1:\n",
    "L1 =  inner(u[1], v[1])*dx \\\n",
    "     -inner(phi(u[0], u_prev[0]), v[1])*dx \\\n",
    "     -eps2*inner(grad(u[0]), grad( v[1] ))*dx\n",
    "\n",
    "# The overall weak form is obtained by simply adding up all forms.\n",
    "L = M + L0 + L1\n",
    "\n",
    "# Solvers\n",
    "parameters = {\n",
    "    \"newton.tolerance\": 1e-10,\n",
    "    \"newton.linear.preconditioning.relaxation\": 0.8,\n",
    "    \"newton.linear.tolerance.strategy\": \"eisenstatwalker\",\n",
    "    \"newton.linear.errormeasure\": \"residualreduction\",\n",
    "    \"newton.linear.preconditioning.method\": \"ssor\",\n",
    "    \"newton.linear.maxIteration\": 10000,\n",
    "    # \"newton.verbose\": True,        # Newton solver verbosity\n",
    "    # \"newton.linear.verbose\": True  # Linear solver verbosity\n",
    "}\n",
    "\n",
    "scheme = galerkin(L == 0,\n",
    "                  solver=(\"istl\", \"gmres\"),\n",
    "                  parameters=parameters)\n",
    "\n",
    "\n",
    "# initial data\n",
    "def initial(x):\n",
    "    h = 0.01\n",
    "    g0  = lambda x,x0,T: conditional(x-x0<-T/2,0,conditional(x-x0>T/2,0,sin(2*pi/T*(x-x0))**3))\n",
    "    # u_0\n",
    "    G   = lambda x,y,x0,y0,T: g0(x,x0,T)*g0(y,y0,T)\n",
    "    # eta_ 0\n",
    "    eta = lambda v : phi(v,v) - eps2*div(grad(v))\n",
    "    return as_vector([ G(x[0],x[1],0.5,0.5,50*h), eta(G(x[0],x[1],0.5,0.5,50*h))])"
   ]
  },
  {
   "cell_type": "markdown",
   "id": "33464f5a",
   "metadata": {},
   "source": [
    "\n",
    "A suitable refinement indicator as `gridFunction` is given by\n",
    "the absolute value of the gradient of the first component of $u_h$ on each element, i.e. $| \\nabla ((u_h)_0)_{|E}|$.\n",
    "In addition we apply a scaling of the indicator with the difference of maximum and minimum value of all\n",
    "indicators, yielding\n",
    "$$ \\chi_E := \\frac{| \\nabla ((u_h)_0)_{|E}|}{\\chi_{S}}$$\n",
    "with $\\chi_{S} := \\max_{E} { | (\\nabla (u_h)_0)_{|E}| } - \\min_{E} { | (\\nabla (u_h)_0)_{|E}| }$.\n",
    "\n",
    "We apply a In order to achieve\n",
    "Set `refineTol = 0.75` and the `coarsenTol = 0.1 * refineTol`.\n",
    "\n",
    "To easily compute $\\chi_S$ (use the `as_numpy` feature) interpolate the gridFunction into the discrete\n",
    "function `indicator` which was created above.\n",
    "\n",
    "Furthermore, add a function `adapt` takes one argument `maxLevel` and carries out the adaptation steps, as\n",
    "discussed in the lecture.\n"
   ]
  },
  {
   "cell_type": "code",
   "execution_count": null,
   "id": "150cec2d",
   "metadata": {},
   "outputs": [],
   "source": [
    "##### TASK\n",
    "\n",
    "\n",
    "# indicator = (indicator - minIndicator) / (maxIndicator - minIndicator)\n",
    "\n",
    "def adapt(maxLevel):\n",
    "    indicator = sqrt(inner(grad(u_h[0]),grad(u_h[0])))\n",
    "    indicator = fvspc.interpolate(indicator, name=\"indicator\")\n",
    "    minIndicator = np.min(indicator.as_numpy)\n",
    "    maxIndicator = np.max(indicator.as_numpy)\n",
    "    if maxIndicator > minIndicator:\n",
    "        indicator.as_numpy[:] -= minIndicator\n",
    "        indicator.as_numpy[:] /= (maxIndicator - minIndicator)\n",
    "    \n",
    "    fem.mark(indicator, refineTolerance=0.75, coarsenTolerance=0.075, maxLevel=maxLevel)\n",
    "    fem.adapt([u_h,u_prev])"
   ]
  },
  {
   "cell_type": "markdown",
   "id": "f23e836e",
   "metadata": {},
   "source": []
  },
  {
   "cell_type": "code",
   "execution_count": null,
   "id": "ba90e993",
   "metadata": {},
   "outputs": [],
   "source": [
    "x = SpatialCoordinate(cell(dim))\n",
    "# interpolate initial data\n",
    "u_h.interpolate(initial(x))\n",
    "\n",
    "# visualization\n",
    "if useVTK:\n",
    "    write_solution = gridView.sequencedVTK(\n",
    "            \"phasefield\",\n",
    "            pointdata=[u_h],\n",
    "            subsampling=0\n",
    "        )\n",
    "else:\n",
    "    # only plot the phase field, not the auxiliary variable\n",
    "    write_solution = lambda : u_h[0].plot()\n",
    "\n",
    "# time step size\n",
    "tau.value = 1e-2\n",
    "t = 0\n",
    "\n",
    "# write 25 communication steps\n",
    "saveinterval = T / 25."
   ]
  },
  {
   "cell_type": "markdown",
   "id": "8cff800a",
   "metadata": {
    "lines_to_next_cell": 2
   },
   "source": [
    "\n",
    "Compute the energy. This value should be decaying over time."
   ]
  },
  {
   "cell_type": "code",
   "execution_count": null,
   "id": "a8793c09",
   "metadata": {},
   "outputs": [],
   "source": [
    "\n",
    "W = lambda v: 1/4*(v**2-1)**2\n",
    "# energy\n",
    "Eint  = lambda v: eps*eps/2*inner(grad(v[0]),grad(v[0]))+W(v[0])"
   ]
  },
  {
   "cell_type": "markdown",
   "id": "c68ea7b7",
   "metadata": {},
   "source": [
    "Time-loop"
   ]
  },
  {
   "cell_type": "code",
   "execution_count": null,
   "id": "bb71bcd6",
   "metadata": {
    "lines_to_next_cell": 2
   },
   "outputs": [],
   "source": [
    "start = time.time()\n",
    "\n",
    "# pre-adapt mesh\n",
    "for i in range(10):\n",
    "    adapt(maxLevel)\n",
    "\n",
    "adaptStep = 5\n",
    "\n",
    "# write initial solution\n",
    "write_solution()\n",
    "\n",
    "i = 0\n",
    "while t < T:\n",
    "    # write or plot solution from time to time\n",
    "    if t // saveinterval > (t - tau.value) // saveinterval:\n",
    "        energy = integrate(Eint(u_h), gridView=gridView, order=5)\n",
    "        write_solution()\n",
    "        print(f\"# t, dt, size: {t:.3f}, {tau.value:.2e}, {gridView.size(0)}, Energy = {energy}\")\n",
    "    if t > 0.8:\n",
    "        tau.value = 4e-2\n",
    "\n",
    "\n",
    "    # overwrite previous value\n",
    "    u_prev.assign( u_h ) # u^n\n",
    "\n",
    "    # Solve for new (u,eta)\n",
    "    info = scheme.solve(target = u_h)\n",
    "\n",
    "    # adapt before Navier-Stokes step because this will alter the\n",
    "    # incompressibility constraint which is then fixed by the solver\n",
    "    if i % adaptStep == 0:\n",
    "        adapt(maxLevel)\n",
    "\n",
    "    # increment time\n",
    "    t += tau.value\n",
    "    i += 1\n",
    "\n",
    "write_solution()"
   ]
  }
 ],
 "metadata": {
  "jupytext": {
   "cell_metadata_filter": "-all",
   "main_language": "python",
   "notebook_metadata_filter": "-all"
  },
  "kernelspec": {
   "display_name": "duneproject",
   "language": "python",
   "name": "python3"
  },
  "language_info": {
   "codemirror_mode": {
    "name": "ipython",
    "version": 3
   },
   "file_extension": ".py",
   "mimetype": "text/x-python",
   "name": "python",
   "nbconvert_exporter": "python",
   "pygments_lexer": "ipython3",
   "version": "3.10.12"
  }
 },
 "nbformat": 4,
 "nbformat_minor": 5
}
