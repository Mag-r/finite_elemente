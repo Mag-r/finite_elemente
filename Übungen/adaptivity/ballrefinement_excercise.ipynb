{
 "cells": [
  {
   "cell_type": "markdown",
   "id": "a673cb16",
   "metadata": {
    "lines_to_next_cell": 2
   },
   "source": [
    "# Ball refinement\n",
    "This is a simple grid refinement and coarsening example.\n",
    "We define a simple time dependent indicator function to\n",
    "mark elements for refinement and coarsening."
   ]
  },
  {
   "cell_type": "code",
   "execution_count": null,
   "id": "3aca1ec9",
   "metadata": {},
   "outputs": [],
   "source": [
    "\n",
    "import numpy as np\n",
    "from dune.common import FieldVector\n",
    "from dune.grid import Marker\n",
    "from dune.alugrid import aluCubeGrid, aluConformGrid\n",
    "from dune.grid import cartesianDomain\n",
    "\n",
    "\n",
    "import dune.fem\n",
    "from dune.fem.view import adaptiveLeafGridView\n",
    "from dune.fem.space import finiteVolume\n",
    "from dune.fem.function import gridFunction\n",
    "\n",
    "from ufl import SpatialCoordinate, sin, cos, pi, sqrt, dot, as_vector, conditional\n",
    "from dune.ufl import Constant\n",
    "\n",
    "lbMethod=14 # help(aluConformGrid) for more information\n",
    "\n",
    "domain = cartesianDomain([0,0], [1,1], [16,16])\n",
    "# view = aluCubeGrid( domain )\n",
    "view = aluConformGrid( domain, lbMethod=lbMethod )\n",
    "\n",
    "maxLevel = 5\n",
    "t = 0."
   ]
  },
  {
   "cell_type": "markdown",
   "id": "bb38965e",
   "metadata": {
    "lines_to_next_cell": 2
   },
   "source": [
    "As an example we implement a simple refinement indicator.\n",
    "\\begin{equation}\n",
    " \\eta_E = \\left \\{ \\begin{array}{ll}\n",
    "                       1 & \\mbox{ if } \\quad 0.15 < |c_E - y(t)| < 0.25 \\\\\n",
    "                       0 & \\mbox{ else }.\n",
    "                      \\end{array} \\right .\n",
    "\\end{equation}\n",
    "where $c_E$ is the elements center and $y(t) = (r_0\\cos(t 2 \\pi ) + 0.5, r_0\\sin(t 2 \\pi) + 0.5 )^T$ and $r_0 = 0.3$.\n",
    "Mark an element $E$ for refinement, if $\\eta_E = 1$, otherwise mark for coarsening.\n",
    "\n",
    "Implement $\\eta_E$ and a marking function with the following signature:\n",
    "```\n",
    "def eta( element ):\n",
    "    return 0.\n",
    "\n",
    "def markh( element ):\n",
    "    return Marker.keep\n",
    "```"
   ]
  },
  {
   "cell_type": "code",
   "execution_count": null,
   "id": "4c269342",
   "metadata": {},
   "outputs": [],
   "source": [
    "##### TASK\n",
    "def eta(element):\n",
    "    try:\n",
    "        center = element.geometry.center\n",
    "    except AttributeError:\n",
    "        center = element\n",
    "    ball = FieldVector([0.3 * cos(t * 2 * pi) + 0.5, 0.3 * sin(t * 2 * pi) + 0.5])\n",
    "    \n",
    "    if np.abs(sqrt((center - ball).two_norm) - 0.3) < 0.05:\n",
    "        return 1\n",
    "    else:\n",
    "        return 0\n",
    "    \n",
    "def markh(element):\n",
    "    return Marker.refine if eta(element) else Marker.coarsen "
   ]
  },
  {
   "cell_type": "markdown",
   "id": "365db2f7",
   "metadata": {
    "lines_to_next_cell": 2
   },
   "source": [
    "We invoke some initial refinement"
   ]
  },
  {
   "cell_type": "code",
   "execution_count": null,
   "id": "5454fbc2",
   "metadata": {},
   "outputs": [],
   "source": [
    "\n",
    "# initial refinement\n",
    "view.hierarchicalGrid.globalRefine(maxLevel-1)\n",
    "\n",
    "from dune.grid import gridFunction\n",
    "@gridFunction(view)\n",
    "def levelFct(e, x):\n",
    "    return e.level"
   ]
  },
  {
   "cell_type": "markdown",
   "id": "cb8942a7",
   "metadata": {
    "lines_to_next_cell": 2
   },
   "source": [
    "Adapt the grid in each time step in the time interval $[0,T]$ with $T=1.5$ and\n",
    "use a time step of $\\Delta t = 0.01$.\n",
    "Use the hierarchical grids adapt function:\n",
    "```\n",
    "view.hierarchicalGrid.adapt(markh)\n",
    "```"
   ]
  },
  {
   "cell_type": "code",
   "execution_count": null,
   "id": "14488bdf",
   "metadata": {},
   "outputs": [],
   "source": [
    "##### TASK\n",
    "t = 0\n",
    "while t < 0.5:\n",
    "    print(\"t = \", t)\n",
    "    view.hierarchicalGrid.adapt(markh)\n",
    "    t += 0.02\n",
    "    view.plot()"
   ]
  },
  {
   "cell_type": "markdown",
   "id": "f54f67df",
   "metadata": {
    "lines_to_next_cell": 2
   },
   "source": [
    "Lets do the same using a UFL expression for the characteristic function\n",
    "$\\eta_E$ and use the marking and adapt routines from dune-fem.\n"
   ]
  },
  {
   "cell_type": "code",
   "execution_count": null,
   "id": "9e5857c0",
   "metadata": {},
   "outputs": [],
   "source": [
    "\n",
    "\n",
    "# create an adaptiveLeafGridView over a standard grid view\n",
    "view = adaptiveLeafGridView( aluConformGrid( domain, lbMethod=lbMethod ) )\n",
    "# initial refinement\n",
    "view.hierarchicalGrid.globalRefine(maxLevel-1)\n",
    "\n",
    "# a space to store the indicator\n",
    "space = finiteVolume( view )"
   ]
  },
  {
   "cell_type": "markdown",
   "id": "e3f0d026",
   "metadata": {
    "lines_to_next_cell": 2
   },
   "source": [
    "Task: Write $\\eta_E$ as UFL expression and use the routines\n",
    "```\n",
    "dune.fem.mark(indicator, refineTolerance=0.7, coarsenTolerance=0.1, maxLevel=maxLevel )\n",
    "dune.fem.adapt( view.hierarchicalGrid )\n",
    "```\n",
    "to carry out the adaptation.\n"
   ]
  },
  {
   "cell_type": "code",
   "execution_count": null,
   "id": "e34bb178",
   "metadata": {
    "lines_to_next_cell": 2
   },
   "outputs": [],
   "source": [
    "\n",
    "indicator = space.interpolate( eta , name = \"indicator\" )\n",
    "t = 0\n",
    "dune.fem.loadBalance(view.hierarchicalGrid)\n",
    "while t < 0.5:\n",
    "    print(\"t = \", t)\n",
    "    indicator = space.interpolate( eta , name = \"indicator\" )\n",
    "    dune.fem.mark(indicator = indicator,maxLevel=maxLevel, refineTolerance=0.5, coarsenTolerance=0.5)\n",
    "    dune.fem.adapt(view.hierarchicalGrid)\n",
    "    dune.fem.loadBalance(view.hierarchicalGrid)\n",
    "    t += 0.01\n",
    "    view.plot()"
   ]
  }
 ],
 "metadata": {
  "jupytext": {
   "cell_metadata_filter": "-all",
   "main_language": "python",
   "notebook_metadata_filter": "-all"
  },
  "kernelspec": {
   "display_name": "duneproject",
   "language": "python",
   "name": "python3"
  },
  "language_info": {
   "codemirror_mode": {
    "name": "ipython",
    "version": 3
   },
   "file_extension": ".py",
   "mimetype": "text/x-python",
   "name": "python",
   "nbconvert_exporter": "python",
   "pygments_lexer": "ipython3",
   "version": "3.10.12"
  }
 },
 "nbformat": 4,
 "nbformat_minor": 5
}
