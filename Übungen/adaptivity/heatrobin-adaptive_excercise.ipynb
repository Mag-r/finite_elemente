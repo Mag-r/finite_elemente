{
 "cells": [
  {
   "cell_type": "markdown",
   "id": "781da458",
   "metadata": {},
   "source": [
    "# Heat Equation with moving Source\n",
    "\n",
    "## Problem Description\n",
    "\n",
    "We model a heated room with a window and a moving oven by the\n",
    "following initial-boundary-value-problem\n",
    "\n",
    "\\begin{align*}\n",
    "    \\partial_t u - K\\,\\Delta u &= f\\;\\text{ in }\\Omega=(-1,1)\\times(-1,1),\\\\\n",
    "    K\\,\\partial_\\nu u &= \\alpha\\,(g_R - u)\\;\\text{ on }\\Gamma_R,\\\\\n",
    "    K\\,\\partial_\\nu u &= 0\\;\\text{ on }\\partial\\Omega\\setminus \\Gamma_R,\n",
    "\\end{align*}\n",
    "\n",
    "with initial condition $u=0$, the diffusion coefficient $K\\equiv 1/100$, the time-dependent\n",
    "load function\n",
    "\n",
    "\\begin{equation*}\n",
    "  f(x,\\,t)=\\begin{cases}\n",
    "    \\mu,& x\\in\\,B_r(P(t))\\\\\n",
    "    0,& else.\n",
    "  \\end{cases},\\;\n",
    "  P(t) = R\\,\n",
    "  \\begin{pmatrix}\n",
    "    \\cos(\\omega\\,t)\\\\\n",
    "    \\sin(\\omega\\,t)\n",
    "  \\end{pmatrix},\n",
    "\\end{equation*}\n",
    "\n",
    "$\\mu=8$, $r=0.2$, $R=0.6$, $\\omega=0.01$. The window is located at\n",
    "\n",
    "\\begin{equation*}\n",
    "  \\Gamma_R=(-0.5,\\,0.5)\\times\\{1\\}\n",
    "\\end{equation*}\n",
    "\n",
    "and ``connects'' the outside temperature $g_R\\equiv -5$ with an\n",
    "heat-conductivity-coefficient of $\\alpha=1.2$ to the inside. The\n",
    "remaining parts of the walls are considered to be ideal isolators.\n",
    "\n",
    "## Weak Formulation\n",
    "\n",
    "The weak formulation reads as follows: find $u\\in H^1(\\Omega)$ s.t.\n",
    "\n",
    "\\begin{equation*}\n",
    "  0=\n",
    "  \\frac{\\mathrm{d}}{\\mathrm{d}t}\\int_\\Omega u\\,\\phi\n",
    "  +\n",
    "  \\int_\\Omega K\\,\\nabla u\\cdot\\nabla\\phi-f\\,\\phi\\,{\\rm dx}\n",
    "  +\n",
    "  \\int_{\\Gamma_R}\\alpha\\,(u-g_R)\\,\\phi\\,{\\rm ds}\\quad\\forall\\;\\phi\\in H^1(\\Omega).\n",
    "\\end{equation*}\n",
    "\n",
    "or equivalently using characteristic functions for the support of\n",
    "$f$ and the Robin-boundary\n",
    "\n",
    "\\begin{equation*}\n",
    "  0=\n",
    "  \\frac{\\mathrm{d}}{\\mathrm{d}t}\\int_\\Omega u\\,\\phi\n",
    "  +\n",
    "  \\int_\\Omega K\\,\\nabla u\\cdot\\nabla\\phi-\\mu\\,\\chi_{B_r(P(t)}\\,\\phi\\,{\\rm dx}\n",
    "  +\n",
    "  \\int_{\\partial\\Omega}\\alpha\\,(u-g_R)\\,\\chi_{\\Gamma_R}\\,\\phi\\,{\\rm ds}.\n",
    "\\end{equation*}\n",
    "\n",
    "## Error Estimator\n",
    "\n",
    "Given a discrete solution $u_h$ one can use the following expression\n",
    "as a local error indicator $\\eta_T$ on an element $T$\n",
    "\n",
    "\\begin{equation*}\n",
    "  \\begin{split}\n",
    "    \\eta_T &= h_T^2||R(u_h^{n+1},u_h^n)||^2_{L^2(T)} + \\sum_{e\\in{\\cal F}^i(T)} h_e\\,||[K\\,\\partial_n u_h^{n+1}]||^2_{L^2(e)}\\\\\n",
    "    &\n",
    "    +\\sum_{e\\in{\\cal F}^o(T)} h_e\\,||K\\,\\partial_n u_h^{n+1}-\\alpha\\,(u_h^{n+1}-g_R)\\,\\chi_{\\Gamma_R}||^2_{L^2(e)}\n",
    "  \\end{split}\n",
    "\\end{equation*}\n",
    "\n",
    "with the element residual $R(v,w)=(v-w)/\\Delta t - K\\,\\Delta v -\n",
    "\\mu\\,\\chi_{B_r(P(t^{n+1}))}$.  ${\\cal F}^i(T)$ denotes set sets of\n",
    "inner faces of an element $T$, ${\\cal F}^o(T)$ denotes the sets of\n",
    "faces of $T$ which intersect the boundary."
   ]
  },
  {
   "cell_type": "markdown",
   "id": "a65a2ba2",
   "metadata": {},
   "source": [
    "## Program Setup"
   ]
  },
  {
   "cell_type": "code",
   "execution_count": null,
   "id": "36f0f715",
   "metadata": {},
   "outputs": [],
   "source": [
    "import ufl\n",
    "from ufl import grad, div, jump, avg, dot, dx, ds, dS, inner, sin, cos, pi, exp, sqrt, Integral\n",
    "import dune.ufl\n",
    "import dune.grid\n",
    "import dune.fem\n",
    "import dune.generator\n",
    "import dune.alugrid\n",
    "\n",
    "useAdaptivity = True\n",
    "\n",
    "endTime  = 100\n",
    "# ... keep large in order to avoid huge PDFs\n",
    "saveInterval = 5 # for VTK\n",
    "initialRefinements = 8\n",
    "globalTolerance = 5e-1\n",
    "refineFraction = 0.9\n",
    "coarsenFraction = 0.4\n",
    "\n",
    "domain = dune.grid.cartesianDomain([-1,-1],[1,1],[1,1])\n",
    "# Use an unstructured grid in order to be able to use local mesh adaptation\n",
    "gridView = dune.fem.view.adaptiveLeafGridView(dune.alugrid.aluConformGrid(domain))\n",
    "gridView.hierarchicalGrid.globalRefine(initialRefinements)\n",
    "\n",
    "space = dune.fem.space.lagrange(gridView, order=1, storage=\"istl\")\n",
    "u     = ufl.TrialFunction(space)\n",
    "phi   = ufl.TestFunction(space)\n",
    "x     = ufl.SpatialCoordinate(space)\n",
    "dt    = dune.ufl.Constant(0.1, \"timeStep\")\n",
    "t     = dune.ufl.Constant(0.0, \"time\")\n",
    "\n",
    "# define storage for discrete solutions\n",
    "uh     = space.interpolate(0, name=\"uh\")\n",
    "uh_old = uh.copy()\n",
    "\n",
    "# initial solution (passed to interpolate later)\n",
    "initial = 0"
   ]
  },
  {
   "cell_type": "markdown",
   "id": "cea6ba6a",
   "metadata": {
    "lines_to_next_cell": 0
   },
   "source": [
    "## Problem definition\n"
   ]
  },
  {
   "cell_type": "markdown",
   "id": "957a7f5d",
   "metadata": {},
   "source": [
    "### Possible implementation for the oven"
   ]
  },
  {
   "cell_type": "code",
   "execution_count": null,
   "id": "8677ce00",
   "metadata": {},
   "outputs": [],
   "source": [
    "ROven = 0.6\n",
    "omegaOven = 0.05*2*pi\n",
    "P = lambda s: ufl.as_vector([ROven*cos(omegaOven*s), ROven*sin(omegaOven*s)])\n",
    "rOven = 0.2\n",
    "ovenEnergy = 8\n",
    "chiOven = lambda s: ufl.conditional(dot(x-P(s), x-P(s)) < rOven**2, 1, 0)\n",
    "ovenLoad = lambda s: ovenEnergy * chiOven(s)"
   ]
  },
  {
   "cell_type": "markdown",
   "id": "5ab45965",
   "metadata": {},
   "source": [
    "### One possibility to model the desk"
   ]
  },
  {
   "cell_type": "code",
   "execution_count": null,
   "id": "161066ef",
   "metadata": {},
   "outputs": [],
   "source": [
    "deskCenter = [-0.8, -0.8]\n",
    "deskSize = 0.2\n",
    "chiDesk = ufl.conditional(abs(x[0]-deskCenter[0]) < deskSize, 1, 0)\\\n",
    "  * ufl.conditional(abs(x[1] - deskCenter[1]) < deskSize, 1, 0)"
   ]
  },
  {
   "cell_type": "markdown",
   "id": "68eeeadf",
   "metadata": {},
   "source": [
    "\n",
    "#### Possible implementation of $\\chi_{\\Gamma_R}$:"
   ]
  },
  {
   "cell_type": "code",
   "execution_count": null,
   "id": "bcd21346",
   "metadata": {},
   "outputs": [],
   "source": [
    "windowWidth = 0.5\n",
    "chiWindow = ufl.conditional(abs(x[1]-1.0) < 1e-8, 1, 0)*ufl.conditional(abs(x[0]) < windowWidth, 1, 0)"
   ]
  },
  {
   "cell_type": "code",
   "execution_count": null,
   "id": "3504caca",
   "metadata": {},
   "outputs": [],
   "source": [
    "transmissionCoefficient = 1.2\n",
    "outerTemperature = -5.0\n",
    "rBC = transmissionCoefficient * (u - outerTemperature) * chiWindow"
   ]
  },
  {
   "cell_type": "markdown",
   "id": "758ce482",
   "metadata": {},
   "source": [
    "### Write down the UFL-form, generate the scheme, provide the initial value ..."
   ]
  },
  {
   "cell_type": "code",
   "execution_count": null,
   "id": "6cd4477b",
   "metadata": {},
   "outputs": [],
   "source": [
    "# heat diffussion\n",
    "K = 0.01\n",
    "\n",
    "# space form\n",
    "diffusiveFlux = K*grad(u)\n",
    "source = -ovenLoad(t+dt)\n",
    "\n",
    "xForm = dot(diffusiveFlux, grad(phi)) * dx + source * phi * dx + rBC * phi * ds\n",
    "\n",
    "# add time discretization\n",
    "form = dot(u - uh_old, phi) * dx + dt * xForm\n",
    "\n",
    "scheme = dune.fem.scheme.galerkin(form == 0, solver=\"cg\",\\\n",
    "  parameters={\"newton.linear.preconditioning.method\":\"ilu\"})"
   ]
  },
  {
   "cell_type": "markdown",
   "id": "3b7fe419",
   "metadata": {},
   "source": [
    "### Define the residual error estimator given above"
   ]
  },
  {
   "cell_type": "code",
   "execution_count": null,
   "id": "0d77fc1d",
   "metadata": {},
   "outputs": [],
   "source": [
    "##### TASK\n",
    "\n",
    "elementStorage = dune.fem.space.finiteVolume(gridView)\n",
    "chiT = ufl.TestFunction(elementStorage)\n",
    "n= ufl.FacetNormal(elementStorage)\n",
    "hT = ufl.MaxCellEdgeLength(elementStorage)\n",
    "he = ufl.MaxFacetEdgeLength(elementStorage)\n"
   ]
  },
  {
   "cell_type": "markdown",
   "id": "3a2170c1",
   "metadata": {},
   "source": [
    "#### Residual Estimator as UFL Form\n",
    "\n",
    "Here it is important to note, that the test-function $\\chi_T$ is in\n",
    "particular needed to make sure that the element contribution is\n",
    "stored into the correct componnt of the DOF-vector of the discrete\n",
    "estimate \"function\". Hence it must be there and cannot be ommitted\n",
    "although $\\chi_T$ on each element just evaluates to $1$, and\n",
    "$\\mathrm{avg}(\\chi_T)$ evaluates to 0.5."
   ]
  },
  {
   "cell_type": "code",
   "execution_count": null,
   "id": "d971156e",
   "metadata": {},
   "outputs": [],
   "source": [
    "residual = (u-uh_old)/dt - div(diffusiveFlux) + source\n",
    "\n",
    "estimatorForm = hT**2 * residual**2 * chiT * dx\\\n",
    "  + he * (inner(diffusiveFlux, n) - rBC)**2 * chiT * ds\\\n",
    "  + he * inner(jump(diffusiveFlux), n('+'))**2 * avg(chiT) * dS\n",
    "estimator = dune.fem.operator.galerkin(estimatorForm)\n",
    "estimate = elementStorage.interpolate(0, name=\"estimate\")"
   ]
  },
  {
   "cell_type": "markdown",
   "id": "c9eb8fa5",
   "metadata": {},
   "source": [
    "### Prepare for the time loop: initial data"
   ]
  },
  {
   "cell_type": "code",
   "execution_count": null,
   "id": "57edf769",
   "metadata": {},
   "outputs": [],
   "source": [
    "nextSaveTime = saveInterval\n",
    "uh.interpolate(initial)"
   ]
  },
  {
   "cell_type": "markdown",
   "id": "ec6dc859",
   "metadata": {},
   "source": [
    "### Initialize a sequenced VTK writer for temporal data"
   ]
  },
  {
   "cell_type": "code",
   "execution_count": null,
   "id": "de16714b",
   "metadata": {},
   "outputs": [],
   "source": [
    "vtk = gridView.sequencedVTK(\"heatrobin\", pointdata=[uh,estimate])\n",
    "vtk()\n",
    "uh.plot()"
   ]
  },
  {
   "cell_type": "markdown",
   "id": "97e074c0",
   "metadata": {},
   "source": [
    "### Time-loop"
   ]
  },
  {
   "cell_type": "code",
   "execution_count": null,
   "id": "3ff532a4",
   "metadata": {},
   "outputs": [],
   "source": [
    "while t.value < endTime:\n",
    "    uh_old.assign(uh)\n",
    "    info = scheme.solve(target=uh)\n",
    "    deskTemperature = dune.fem.function.integrate(gridView, uh * chiDesk, order=1) / deskSize**2 / 4\n",
    "    estimator(uh, estimate)\n",
    "\n",
    "    errorEstimate = sum(estimate.dofVector)\n",
    "    print(\"estimated error: \", sqrt(errorEstimate))\n",
    "    print(\"min. est.^2: \", min(estimate.dofVector))\n",
    "    print(\"max. est.^2: \", max(estimate.dofVector))\n",
    "\n",
    "    t.value += dt.value\n",
    "    print(\"Computed solution at time\", t.value,\n",
    "              \"desk temperature\", deskTemperature,\n",
    "              \"iterations: \", info[\"linear_iterations\"],\n",
    "              \"#Ent: \", gridView.size(0) )\n",
    "    if t.value >= nextSaveTime or t.value >= endTime:\n",
    "        vtk()\n",
    "        uh.plot()\n",
    "        nextSaveTime += saveInterval\n",
    "\n",
    "    if useAdaptivity:\n",
    "        avgTolerance = globalTolerance**2 / gridView.size(0)\n",
    "        refineTol = avgTolerance * refineFraction\n",
    "        coarsenTol = avgTolerance * coarsenFraction\n",
    "        print(\"local tolerances \", avgTolerance, refineTol, coarsenTol)\n",
    "        [refined, coarsened] = dune.fem.mark(estimate, refineTol, coarsenTol)\n",
    "        print(\"#refined/coarsended: \", refined, coarsened)\n",
    "        dune.fem.adapt([uh])"
   ]
  }
 ],
 "metadata": {
  "jupytext": {
   "cell_metadata_filter": "-all",
   "main_language": "python",
   "notebook_metadata_filter": "-all"
  },
  "kernelspec": {
   "display_name": "duneproject",
   "language": "python",
   "name": "python3"
  },
  "language_info": {
   "codemirror_mode": {
    "name": "ipython",
    "version": 3
   },
   "file_extension": ".py",
   "mimetype": "text/x-python",
   "name": "python",
   "nbconvert_exporter": "python",
   "pygments_lexer": "ipython3",
   "version": "3.10.12"
  }
 },
 "nbformat": 4,
 "nbformat_minor": 5
}
